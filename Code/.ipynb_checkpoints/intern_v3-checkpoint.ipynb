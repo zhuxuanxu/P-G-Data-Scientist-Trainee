{
 "cells": [
  {
   "cell_type": "code",
   "execution_count": 1,
   "id": "26523611-d425-4076-99ec-c03c937e797c",
   "metadata": {
    "tags": []
   },
   "outputs": [],
   "source": [
    "import pandas as pd"
   ]
  },
  {
   "cell_type": "markdown",
   "id": "c65f6d48-08b7-492b-97ae-d75e0e3e7373",
   "metadata": {},
   "source": [
    "### 1. Import Dataset"
   ]
  },
  {
   "cell_type": "code",
   "execution_count": 2,
   "id": "3fb00f46-854a-4c82-b90c-96327e1d7c27",
   "metadata": {},
   "outputs": [
    {
     "data": {
      "text/html": [
       "<div>\n",
       "<style scoped>\n",
       "    .dataframe tbody tr th:only-of-type {\n",
       "        vertical-align: middle;\n",
       "    }\n",
       "\n",
       "    .dataframe tbody tr th {\n",
       "        vertical-align: top;\n",
       "    }\n",
       "\n",
       "    .dataframe thead th {\n",
       "        text-align: right;\n",
       "    }\n",
       "</style>\n",
       "<table border=\"1\" class=\"dataframe\">\n",
       "  <thead>\n",
       "    <tr style=\"text-align: right;\">\n",
       "      <th></th>\n",
       "      <th>id_mask</th>\n",
       "      <th>age</th>\n",
       "      <th>city</th>\n",
       "      <th>gender</th>\n",
       "      <th>set_126</th>\n",
       "    </tr>\n",
       "  </thead>\n",
       "  <tbody>\n",
       "    <tr>\n",
       "      <th>0</th>\n",
       "      <td>0</td>\n",
       "      <td>30-34</td>\n",
       "      <td>广州市</td>\n",
       "      <td>女</td>\n",
       "      <td>[15, 5]</td>\n",
       "    </tr>\n",
       "    <tr>\n",
       "      <th>1</th>\n",
       "      <td>1</td>\n",
       "      <td>20-24</td>\n",
       "      <td>襄阳市</td>\n",
       "      <td>女</td>\n",
       "      <td>[10, 1, 11, 13, 14, 4, 8]</td>\n",
       "    </tr>\n",
       "    <tr>\n",
       "      <th>2</th>\n",
       "      <td>2</td>\n",
       "      <td>30-34</td>\n",
       "      <td>海口市</td>\n",
       "      <td>女</td>\n",
       "      <td>[13, 4, 14]</td>\n",
       "    </tr>\n",
       "    <tr>\n",
       "      <th>3</th>\n",
       "      <td>3</td>\n",
       "      <td>25-29</td>\n",
       "      <td>无锡市</td>\n",
       "      <td>女</td>\n",
       "      <td>[1, 5, 12, 14, 11, 6, 4, 9, 2, 15]</td>\n",
       "    </tr>\n",
       "    <tr>\n",
       "      <th>4</th>\n",
       "      <td>4</td>\n",
       "      <td>30-34</td>\n",
       "      <td>雅安市</td>\n",
       "      <td>女</td>\n",
       "      <td>[15, 11, 12, 1, 5, 8, 4, 10, 13]</td>\n",
       "    </tr>\n",
       "    <tr>\n",
       "      <th>...</th>\n",
       "      <td>...</td>\n",
       "      <td>...</td>\n",
       "      <td>...</td>\n",
       "      <td>...</td>\n",
       "      <td>...</td>\n",
       "    </tr>\n",
       "    <tr>\n",
       "      <th>32388</th>\n",
       "      <td>32388</td>\n",
       "      <td>25-29</td>\n",
       "      <td>北京市</td>\n",
       "      <td>女</td>\n",
       "      <td>[15, 10, 3, 11, 2, 9, 14, 5, 7, 4]</td>\n",
       "    </tr>\n",
       "    <tr>\n",
       "      <th>32389</th>\n",
       "      <td>32389</td>\n",
       "      <td>18-19</td>\n",
       "      <td>滁州市</td>\n",
       "      <td>女</td>\n",
       "      <td>[3, 8, 10]</td>\n",
       "    </tr>\n",
       "    <tr>\n",
       "      <th>32390</th>\n",
       "      <td>32390</td>\n",
       "      <td>18-19</td>\n",
       "      <td>贵阳市</td>\n",
       "      <td>女</td>\n",
       "      <td>[11, 10, 9, 12, 15]</td>\n",
       "    </tr>\n",
       "    <tr>\n",
       "      <th>32391</th>\n",
       "      <td>32391</td>\n",
       "      <td>20-24</td>\n",
       "      <td>安阳市</td>\n",
       "      <td>女</td>\n",
       "      <td>[5, 11, 3, 7]</td>\n",
       "    </tr>\n",
       "    <tr>\n",
       "      <th>32392</th>\n",
       "      <td>32392</td>\n",
       "      <td>20-24</td>\n",
       "      <td>西安市</td>\n",
       "      <td>女</td>\n",
       "      <td>[6, 3]</td>\n",
       "    </tr>\n",
       "  </tbody>\n",
       "</table>\n",
       "<p>32393 rows × 5 columns</p>\n",
       "</div>"
      ],
      "text/plain": [
       "       id_mask    age city gender                             set_126\n",
       "0            0  30-34  广州市      女                             [15, 5]\n",
       "1            1  20-24  襄阳市      女           [10, 1, 11, 13, 14, 4, 8]\n",
       "2            2  30-34  海口市      女                         [13, 4, 14]\n",
       "3            3  25-29  无锡市      女  [1, 5, 12, 14, 11, 6, 4, 9, 2, 15]\n",
       "4            4  30-34  雅安市      女    [15, 11, 12, 1, 5, 8, 4, 10, 13]\n",
       "...        ...    ...  ...    ...                                 ...\n",
       "32388    32388  25-29  北京市      女  [15, 10, 3, 11, 2, 9, 14, 5, 7, 4]\n",
       "32389    32389  18-19  滁州市      女                          [3, 8, 10]\n",
       "32390    32390  18-19  贵阳市      女                 [11, 10, 9, 12, 15]\n",
       "32391    32391  20-24  安阳市      女                       [5, 11, 3, 7]\n",
       "32392    32392  20-24  西安市      女                              [6, 3]\n",
       "\n",
       "[32393 rows x 5 columns]"
      ]
     },
     "execution_count": 2,
     "metadata": {},
     "output_type": "execute_result"
    }
   ],
   "source": [
    "df_test = pd.read_excel('/Users/xuzhuxuan/Desktop/cia_test_control/test_cia.xlsx')\n",
    "df_test = df_test.iloc[:,1:]\n",
    "df_test"
   ]
  },
  {
   "cell_type": "code",
   "execution_count": 3,
   "id": "e7352f57-b7a8-4988-9e19-1f3839752110",
   "metadata": {},
   "outputs": [
    {
     "data": {
      "text/html": [
       "<div>\n",
       "<style scoped>\n",
       "    .dataframe tbody tr th:only-of-type {\n",
       "        vertical-align: middle;\n",
       "    }\n",
       "\n",
       "    .dataframe tbody tr th {\n",
       "        vertical-align: top;\n",
       "    }\n",
       "\n",
       "    .dataframe thead th {\n",
       "        text-align: right;\n",
       "    }\n",
       "</style>\n",
       "<table border=\"1\" class=\"dataframe\">\n",
       "  <thead>\n",
       "    <tr style=\"text-align: right;\">\n",
       "      <th></th>\n",
       "      <th>id_mask</th>\n",
       "      <th>age</th>\n",
       "      <th>city</th>\n",
       "      <th>gender</th>\n",
       "      <th>set_126</th>\n",
       "    </tr>\n",
       "  </thead>\n",
       "  <tbody>\n",
       "    <tr>\n",
       "      <th>0</th>\n",
       "      <td>32393</td>\n",
       "      <td>25-29</td>\n",
       "      <td>洛阳市</td>\n",
       "      <td>女</td>\n",
       "      <td>[13, 14, 12, 4, 6, 5, 2, 9]</td>\n",
       "    </tr>\n",
       "    <tr>\n",
       "      <th>1</th>\n",
       "      <td>32394</td>\n",
       "      <td>25-29</td>\n",
       "      <td>揭阳市</td>\n",
       "      <td>男</td>\n",
       "      <td>[1, 3, 13, 4, 2, 15, 10, 7, 9, 6]</td>\n",
       "    </tr>\n",
       "    <tr>\n",
       "      <th>2</th>\n",
       "      <td>32395</td>\n",
       "      <td>20-24</td>\n",
       "      <td>北京市</td>\n",
       "      <td>女</td>\n",
       "      <td>[6, 9, 8, 15, 2, 10]</td>\n",
       "    </tr>\n",
       "    <tr>\n",
       "      <th>3</th>\n",
       "      <td>32396</td>\n",
       "      <td>45-49</td>\n",
       "      <td>广州市</td>\n",
       "      <td>女</td>\n",
       "      <td>[15, 14, 10, 11, 9]</td>\n",
       "    </tr>\n",
       "    <tr>\n",
       "      <th>4</th>\n",
       "      <td>32397</td>\n",
       "      <td>18-19</td>\n",
       "      <td>随州市</td>\n",
       "      <td>男</td>\n",
       "      <td>[7, 15, 5, 2, 13, 4, 12, 1]</td>\n",
       "    </tr>\n",
       "    <tr>\n",
       "      <th>...</th>\n",
       "      <td>...</td>\n",
       "      <td>...</td>\n",
       "      <td>...</td>\n",
       "      <td>...</td>\n",
       "      <td>...</td>\n",
       "    </tr>\n",
       "    <tr>\n",
       "      <th>275339</th>\n",
       "      <td>307732</td>\n",
       "      <td>18-19</td>\n",
       "      <td>西安市</td>\n",
       "      <td>女</td>\n",
       "      <td>[4, 15, 1, 12]</td>\n",
       "    </tr>\n",
       "    <tr>\n",
       "      <th>275340</th>\n",
       "      <td>307733</td>\n",
       "      <td>45-49</td>\n",
       "      <td>成都市</td>\n",
       "      <td>女</td>\n",
       "      <td>[14, 5, 13, 6, 4, 9, 12, 11, 15]</td>\n",
       "    </tr>\n",
       "    <tr>\n",
       "      <th>275341</th>\n",
       "      <td>307734</td>\n",
       "      <td>40-44</td>\n",
       "      <td>成都市</td>\n",
       "      <td>男</td>\n",
       "      <td>[8, 7, 2, 4, 9, 12, 1, 5, 10]</td>\n",
       "    </tr>\n",
       "    <tr>\n",
       "      <th>275342</th>\n",
       "      <td>307735</td>\n",
       "      <td>25-29</td>\n",
       "      <td>随州市</td>\n",
       "      <td>女</td>\n",
       "      <td>[4, 5, 15]</td>\n",
       "    </tr>\n",
       "    <tr>\n",
       "      <th>275343</th>\n",
       "      <td>307736</td>\n",
       "      <td>25-29</td>\n",
       "      <td>南京市</td>\n",
       "      <td>男</td>\n",
       "      <td>[9, 3, 1, 2, 11, 14, 7, 12, 13]</td>\n",
       "    </tr>\n",
       "  </tbody>\n",
       "</table>\n",
       "<p>275344 rows × 5 columns</p>\n",
       "</div>"
      ],
      "text/plain": [
       "        id_mask    age city gender                            set_126\n",
       "0         32393  25-29  洛阳市      女        [13, 14, 12, 4, 6, 5, 2, 9]\n",
       "1         32394  25-29  揭阳市      男  [1, 3, 13, 4, 2, 15, 10, 7, 9, 6]\n",
       "2         32395  20-24  北京市      女               [6, 9, 8, 15, 2, 10]\n",
       "3         32396  45-49  广州市      女                [15, 14, 10, 11, 9]\n",
       "4         32397  18-19  随州市      男        [7, 15, 5, 2, 13, 4, 12, 1]\n",
       "...         ...    ...  ...    ...                                ...\n",
       "275339   307732  18-19  西安市      女                     [4, 15, 1, 12]\n",
       "275340   307733  45-49  成都市      女   [14, 5, 13, 6, 4, 9, 12, 11, 15]\n",
       "275341   307734  40-44  成都市      男      [8, 7, 2, 4, 9, 12, 1, 5, 10]\n",
       "275342   307735  25-29  随州市      女                         [4, 5, 15]\n",
       "275343   307736  25-29  南京市      男    [9, 3, 1, 2, 11, 14, 7, 12, 13]\n",
       "\n",
       "[275344 rows x 5 columns]"
      ]
     },
     "execution_count": 3,
     "metadata": {},
     "output_type": "execute_result"
    }
   ],
   "source": [
    "df_control = pd.read_excel('/Users/xuzhuxuan/Desktop/cia_test_control/control_cia.xlsx')\n",
    "df_control = df_control.iloc[:,1:]\n",
    "df_control"
   ]
  },
  {
   "cell_type": "markdown",
   "id": "fbe04c63-a641-4b27-a923-8911bbfafd68",
   "metadata": {
    "tags": []
   },
   "source": [
    "### 2. Data Preprocessing"
   ]
  },
  {
   "cell_type": "code",
   "execution_count": 4,
   "id": "36f90971-2bd8-4a06-8550-c0ed14971b02",
   "metadata": {},
   "outputs": [],
   "source": [
    "def clean(row):\n",
    "    string = row['set_126'].replace('[', '').replace(']', '').replace(' ', '')\n",
    "    set1 = set([int(s) for s in string.split(',')]) \n",
    "    set2 = {x for x in set1 if x <= 5} # only keep the number 1-5\n",
    "    return set2"
   ]
  },
  {
   "cell_type": "code",
   "execution_count": 5,
   "id": "4177e43e-be51-44b7-8c10-9c7342c97ce9",
   "metadata": {},
   "outputs": [
    {
     "data": {
      "text/html": [
       "<div>\n",
       "<style scoped>\n",
       "    .dataframe tbody tr th:only-of-type {\n",
       "        vertical-align: middle;\n",
       "    }\n",
       "\n",
       "    .dataframe tbody tr th {\n",
       "        vertical-align: top;\n",
       "    }\n",
       "\n",
       "    .dataframe thead th {\n",
       "        text-align: right;\n",
       "    }\n",
       "</style>\n",
       "<table border=\"1\" class=\"dataframe\">\n",
       "  <thead>\n",
       "    <tr style=\"text-align: right;\">\n",
       "      <th></th>\n",
       "      <th>id_mask</th>\n",
       "      <th>age</th>\n",
       "      <th>city</th>\n",
       "      <th>gender</th>\n",
       "      <th>set_126</th>\n",
       "    </tr>\n",
       "  </thead>\n",
       "  <tbody>\n",
       "    <tr>\n",
       "      <th>0</th>\n",
       "      <td>0</td>\n",
       "      <td>30-34</td>\n",
       "      <td>广州市</td>\n",
       "      <td>女</td>\n",
       "      <td>{5}</td>\n",
       "    </tr>\n",
       "    <tr>\n",
       "      <th>1</th>\n",
       "      <td>1</td>\n",
       "      <td>20-24</td>\n",
       "      <td>襄阳市</td>\n",
       "      <td>女</td>\n",
       "      <td>{1, 4}</td>\n",
       "    </tr>\n",
       "    <tr>\n",
       "      <th>2</th>\n",
       "      <td>2</td>\n",
       "      <td>30-34</td>\n",
       "      <td>海口市</td>\n",
       "      <td>女</td>\n",
       "      <td>{4}</td>\n",
       "    </tr>\n",
       "    <tr>\n",
       "      <th>3</th>\n",
       "      <td>3</td>\n",
       "      <td>25-29</td>\n",
       "      <td>无锡市</td>\n",
       "      <td>女</td>\n",
       "      <td>{1, 2, 4, 5}</td>\n",
       "    </tr>\n",
       "    <tr>\n",
       "      <th>4</th>\n",
       "      <td>4</td>\n",
       "      <td>30-34</td>\n",
       "      <td>雅安市</td>\n",
       "      <td>女</td>\n",
       "      <td>{1, 4, 5}</td>\n",
       "    </tr>\n",
       "    <tr>\n",
       "      <th>...</th>\n",
       "      <td>...</td>\n",
       "      <td>...</td>\n",
       "      <td>...</td>\n",
       "      <td>...</td>\n",
       "      <td>...</td>\n",
       "    </tr>\n",
       "    <tr>\n",
       "      <th>32388</th>\n",
       "      <td>32388</td>\n",
       "      <td>25-29</td>\n",
       "      <td>北京市</td>\n",
       "      <td>女</td>\n",
       "      <td>{2, 3, 4, 5}</td>\n",
       "    </tr>\n",
       "    <tr>\n",
       "      <th>32389</th>\n",
       "      <td>32389</td>\n",
       "      <td>18-19</td>\n",
       "      <td>滁州市</td>\n",
       "      <td>女</td>\n",
       "      <td>{3}</td>\n",
       "    </tr>\n",
       "    <tr>\n",
       "      <th>32390</th>\n",
       "      <td>32390</td>\n",
       "      <td>18-19</td>\n",
       "      <td>贵阳市</td>\n",
       "      <td>女</td>\n",
       "      <td>{}</td>\n",
       "    </tr>\n",
       "    <tr>\n",
       "      <th>32391</th>\n",
       "      <td>32391</td>\n",
       "      <td>20-24</td>\n",
       "      <td>安阳市</td>\n",
       "      <td>女</td>\n",
       "      <td>{3, 5}</td>\n",
       "    </tr>\n",
       "    <tr>\n",
       "      <th>32392</th>\n",
       "      <td>32392</td>\n",
       "      <td>20-24</td>\n",
       "      <td>西安市</td>\n",
       "      <td>女</td>\n",
       "      <td>{3}</td>\n",
       "    </tr>\n",
       "  </tbody>\n",
       "</table>\n",
       "<p>32393 rows × 5 columns</p>\n",
       "</div>"
      ],
      "text/plain": [
       "       id_mask    age city gender       set_126\n",
       "0            0  30-34  广州市      女           {5}\n",
       "1            1  20-24  襄阳市      女        {1, 4}\n",
       "2            2  30-34  海口市      女           {4}\n",
       "3            3  25-29  无锡市      女  {1, 2, 4, 5}\n",
       "4            4  30-34  雅安市      女     {1, 4, 5}\n",
       "...        ...    ...  ...    ...           ...\n",
       "32388    32388  25-29  北京市      女  {2, 3, 4, 5}\n",
       "32389    32389  18-19  滁州市      女           {3}\n",
       "32390    32390  18-19  贵阳市      女            {}\n",
       "32391    32391  20-24  安阳市      女        {3, 5}\n",
       "32392    32392  20-24  西安市      女           {3}\n",
       "\n",
       "[32393 rows x 5 columns]"
      ]
     },
     "execution_count": 5,
     "metadata": {},
     "output_type": "execute_result"
    }
   ],
   "source": [
    "df_test['set_126'] = df_test.apply(clean, axis = 1)\n",
    "df_control['set_126'] = df_control.apply(clean, axis = 1)\n",
    "df_test"
   ]
  },
  {
   "cell_type": "code",
   "execution_count": 6,
   "id": "befc1f6f-cdbf-4986-b64c-c9947610df10",
   "metadata": {},
   "outputs": [
    {
     "data": {
      "text/html": [
       "<div>\n",
       "<style scoped>\n",
       "    .dataframe tbody tr th:only-of-type {\n",
       "        vertical-align: middle;\n",
       "    }\n",
       "\n",
       "    .dataframe tbody tr th {\n",
       "        vertical-align: top;\n",
       "    }\n",
       "\n",
       "    .dataframe thead th {\n",
       "        text-align: right;\n",
       "    }\n",
       "</style>\n",
       "<table border=\"1\" class=\"dataframe\">\n",
       "  <thead>\n",
       "    <tr style=\"text-align: right;\">\n",
       "      <th></th>\n",
       "      <th>id_mask</th>\n",
       "      <th>age</th>\n",
       "      <th>city</th>\n",
       "      <th>gender</th>\n",
       "      <th>set_126</th>\n",
       "      <th>label</th>\n",
       "    </tr>\n",
       "  </thead>\n",
       "  <tbody>\n",
       "    <tr>\n",
       "      <th>0</th>\n",
       "      <td>0</td>\n",
       "      <td>30-34</td>\n",
       "      <td>广州市</td>\n",
       "      <td>女</td>\n",
       "      <td>{5}</td>\n",
       "      <td>30-34广州市女{5}</td>\n",
       "    </tr>\n",
       "    <tr>\n",
       "      <th>1</th>\n",
       "      <td>1</td>\n",
       "      <td>20-24</td>\n",
       "      <td>襄阳市</td>\n",
       "      <td>女</td>\n",
       "      <td>{1, 4}</td>\n",
       "      <td>20-24襄阳市女{1, 4}</td>\n",
       "    </tr>\n",
       "    <tr>\n",
       "      <th>2</th>\n",
       "      <td>2</td>\n",
       "      <td>30-34</td>\n",
       "      <td>海口市</td>\n",
       "      <td>女</td>\n",
       "      <td>{4}</td>\n",
       "      <td>30-34海口市女{4}</td>\n",
       "    </tr>\n",
       "    <tr>\n",
       "      <th>3</th>\n",
       "      <td>3</td>\n",
       "      <td>25-29</td>\n",
       "      <td>无锡市</td>\n",
       "      <td>女</td>\n",
       "      <td>{1, 2, 4, 5}</td>\n",
       "      <td>25-29无锡市女{1, 2, 4, 5}</td>\n",
       "    </tr>\n",
       "    <tr>\n",
       "      <th>4</th>\n",
       "      <td>4</td>\n",
       "      <td>30-34</td>\n",
       "      <td>雅安市</td>\n",
       "      <td>女</td>\n",
       "      <td>{1, 4, 5}</td>\n",
       "      <td>30-34雅安市女{1, 4, 5}</td>\n",
       "    </tr>\n",
       "    <tr>\n",
       "      <th>...</th>\n",
       "      <td>...</td>\n",
       "      <td>...</td>\n",
       "      <td>...</td>\n",
       "      <td>...</td>\n",
       "      <td>...</td>\n",
       "      <td>...</td>\n",
       "    </tr>\n",
       "    <tr>\n",
       "      <th>32388</th>\n",
       "      <td>32388</td>\n",
       "      <td>25-29</td>\n",
       "      <td>北京市</td>\n",
       "      <td>女</td>\n",
       "      <td>{2, 3, 4, 5}</td>\n",
       "      <td>25-29北京市女{2, 3, 4, 5}</td>\n",
       "    </tr>\n",
       "    <tr>\n",
       "      <th>32389</th>\n",
       "      <td>32389</td>\n",
       "      <td>18-19</td>\n",
       "      <td>滁州市</td>\n",
       "      <td>女</td>\n",
       "      <td>{3}</td>\n",
       "      <td>18-19滁州市女{3}</td>\n",
       "    </tr>\n",
       "    <tr>\n",
       "      <th>32390</th>\n",
       "      <td>32390</td>\n",
       "      <td>18-19</td>\n",
       "      <td>贵阳市</td>\n",
       "      <td>女</td>\n",
       "      <td>{}</td>\n",
       "      <td>18-19贵阳市女set()</td>\n",
       "    </tr>\n",
       "    <tr>\n",
       "      <th>32391</th>\n",
       "      <td>32391</td>\n",
       "      <td>20-24</td>\n",
       "      <td>安阳市</td>\n",
       "      <td>女</td>\n",
       "      <td>{3, 5}</td>\n",
       "      <td>20-24安阳市女{3, 5}</td>\n",
       "    </tr>\n",
       "    <tr>\n",
       "      <th>32392</th>\n",
       "      <td>32392</td>\n",
       "      <td>20-24</td>\n",
       "      <td>西安市</td>\n",
       "      <td>女</td>\n",
       "      <td>{3}</td>\n",
       "      <td>20-24西安市女{3}</td>\n",
       "    </tr>\n",
       "  </tbody>\n",
       "</table>\n",
       "<p>32393 rows × 6 columns</p>\n",
       "</div>"
      ],
      "text/plain": [
       "       id_mask    age city gender       set_126                  label\n",
       "0            0  30-34  广州市      女           {5}           30-34广州市女{5}\n",
       "1            1  20-24  襄阳市      女        {1, 4}        20-24襄阳市女{1, 4}\n",
       "2            2  30-34  海口市      女           {4}           30-34海口市女{4}\n",
       "3            3  25-29  无锡市      女  {1, 2, 4, 5}  25-29无锡市女{1, 2, 4, 5}\n",
       "4            4  30-34  雅安市      女     {1, 4, 5}     30-34雅安市女{1, 4, 5}\n",
       "...        ...    ...  ...    ...           ...                    ...\n",
       "32388    32388  25-29  北京市      女  {2, 3, 4, 5}  25-29北京市女{2, 3, 4, 5}\n",
       "32389    32389  18-19  滁州市      女           {3}           18-19滁州市女{3}\n",
       "32390    32390  18-19  贵阳市      女            {}         18-19贵阳市女set()\n",
       "32391    32391  20-24  安阳市      女        {3, 5}        20-24安阳市女{3, 5}\n",
       "32392    32392  20-24  西安市      女           {3}           20-24西安市女{3}\n",
       "\n",
       "[32393 rows x 6 columns]"
      ]
     },
     "execution_count": 6,
     "metadata": {},
     "output_type": "execute_result"
    }
   ],
   "source": [
    "test_list = df_test.index.tolist()\n",
    "control_list = df_control.index.tolist()\n",
    "\n",
    "for i in test_list:\n",
    "    df_test.at[i, 'label'] = df_test.iloc[i]['age'] + df_test.iloc[i]['city'] + df_test.iloc[i]['gender'] + str(df_test.iloc[i]['set_126'])\n",
    "    \n",
    "for i in control_list:\n",
    "    df_control.at[i, 'label'] = df_control.iloc[i]['age'] + df_control.iloc[i]['city'] + df_control.iloc[i]['gender'] + str(df_control.iloc[i]['set_126'])\n",
    "\n",
    "df_test"
   ]
  },
  {
   "cell_type": "markdown",
   "id": "1d5e4372-82cd-4503-af55-dd4cd66809f7",
   "metadata": {},
   "source": [
    "### 3. Find Match "
   ]
  },
  {
   "cell_type": "code",
   "execution_count": 8,
   "id": "c1bc2c36-75cf-4888-a774-68dd20f5efcd",
   "metadata": {},
   "outputs": [
    {
     "data": {
      "text/plain": [
       "[('30-34广州市女{5}', 11),\n",
       " ('20-24襄阳市女{1, 4}', 3),\n",
       " ('30-34海口市女{4}', 1),\n",
       " ('25-29无锡市女{1, 2, 4, 5}', 5),\n",
       " ('30-34雅安市女{1, 4, 5}', 1),\n",
       " ('35-39杭州市女set()', 2),\n",
       " ('40-44本溪市女set()', 1),\n",
       " ('25-29黔南布依族苗族自治州女{2}', 1),\n",
       " ('30-34沈阳市女{4}', 5),\n",
       " ('25-29嘉兴市女{4}', 3)]"
      ]
     },
     "execution_count": 8,
     "metadata": {},
     "output_type": "execute_result"
    }
   ],
   "source": [
    "# create a dictionary for the test data, key is the label, value is the occurance of each label\n",
    "lst = df_test['label'].tolist()\n",
    "d = {x:lst.count(x) for x in lst}\n",
    "list(d.items())[:10]"
   ]
  },
  {
   "cell_type": "code",
   "execution_count": 9,
   "id": "13009c0d-54f0-4c44-8d36-3961dbd339b3",
   "metadata": {},
   "outputs": [],
   "source": [
    "import random\n",
    "\n",
    "matched_id = []\n",
    "\n",
    "for key,value in d.items():\n",
    "    lst = df_control[df_control['label'] == key]['id_mask'].tolist()\n",
    "    if lst:\n",
    "        lst_sample = random.choices(lst, k=value)\n",
    "        matched_id.extend(lst_sample)\n",
    "    if not lst:\n",
    "        matched_id.extend('N' * value)\n",
    "        "
   ]
  },
  {
   "cell_type": "code",
   "execution_count": 10,
   "id": "443dce57-117c-41b4-99c5-b32d6efc2a31",
   "metadata": {},
   "outputs": [
    {
     "data": {
      "text/plain": [
       "[272678, 238517, 38814, 157320, 165198, 189439, 60618, 207710, 260994, 115723]"
      ]
     },
     "execution_count": 10,
     "metadata": {},
     "output_type": "execute_result"
    }
   ],
   "source": [
    "matched_id[:10]"
   ]
  },
  {
   "cell_type": "code",
   "execution_count": 11,
   "id": "c79e3d17-8df5-4e72-a2c4-ff3dc81add94",
   "metadata": {},
   "outputs": [
    {
     "data": {
      "text/plain": [
       "32393"
      ]
     },
     "execution_count": 11,
     "metadata": {},
     "output_type": "execute_result"
    }
   ],
   "source": [
    "len(matched_id)"
   ]
  },
  {
   "cell_type": "code",
   "execution_count": 12,
   "id": "2a1a8f7c-c319-470e-99fe-dea5f46abd59",
   "metadata": {},
   "outputs": [],
   "source": [
    "test_id = []\n",
    "\n",
    "for key,value in d.items():\n",
    "    lst = df_test[df_test['label'] == key]['id_mask'].tolist()\n",
    "    test_id.extend(lst)"
   ]
  },
  {
   "cell_type": "code",
   "execution_count": 13,
   "id": "babcb6ac-698c-47a3-a40d-f28005499423",
   "metadata": {},
   "outputs": [
    {
     "data": {
      "text/plain": [
       "[0, 4809, 11201, 11741, 15974, 17809, 17853, 18368, 25490, 29100]"
      ]
     },
     "execution_count": 13,
     "metadata": {},
     "output_type": "execute_result"
    }
   ],
   "source": [
    "test_id[:10]"
   ]
  },
  {
   "cell_type": "code",
   "execution_count": 14,
   "id": "966a1b61-9cbd-48b3-9e5e-c5ca5bce2ee2",
   "metadata": {},
   "outputs": [
    {
     "data": {
      "text/html": [
       "<div>\n",
       "<style scoped>\n",
       "    .dataframe tbody tr th:only-of-type {\n",
       "        vertical-align: middle;\n",
       "    }\n",
       "\n",
       "    .dataframe tbody tr th {\n",
       "        vertical-align: top;\n",
       "    }\n",
       "\n",
       "    .dataframe thead th {\n",
       "        text-align: right;\n",
       "    }\n",
       "</style>\n",
       "<table border=\"1\" class=\"dataframe\">\n",
       "  <thead>\n",
       "    <tr style=\"text-align: right;\">\n",
       "      <th></th>\n",
       "      <th>test</th>\n",
       "      <th>control</th>\n",
       "    </tr>\n",
       "  </thead>\n",
       "  <tbody>\n",
       "    <tr>\n",
       "      <th>0</th>\n",
       "      <td>0</td>\n",
       "      <td>272678</td>\n",
       "    </tr>\n",
       "    <tr>\n",
       "      <th>1</th>\n",
       "      <td>4809</td>\n",
       "      <td>238517</td>\n",
       "    </tr>\n",
       "    <tr>\n",
       "      <th>2</th>\n",
       "      <td>11201</td>\n",
       "      <td>38814</td>\n",
       "    </tr>\n",
       "    <tr>\n",
       "      <th>3</th>\n",
       "      <td>11741</td>\n",
       "      <td>157320</td>\n",
       "    </tr>\n",
       "    <tr>\n",
       "      <th>4</th>\n",
       "      <td>15974</td>\n",
       "      <td>165198</td>\n",
       "    </tr>\n",
       "    <tr>\n",
       "      <th>...</th>\n",
       "      <td>...</td>\n",
       "      <td>...</td>\n",
       "    </tr>\n",
       "    <tr>\n",
       "      <th>32388</th>\n",
       "      <td>32363</td>\n",
       "      <td>156541</td>\n",
       "    </tr>\n",
       "    <tr>\n",
       "      <th>32389</th>\n",
       "      <td>32377</td>\n",
       "      <td>214940</td>\n",
       "    </tr>\n",
       "    <tr>\n",
       "      <th>32390</th>\n",
       "      <td>32380</td>\n",
       "      <td>103915</td>\n",
       "    </tr>\n",
       "    <tr>\n",
       "      <th>32391</th>\n",
       "      <td>32387</td>\n",
       "      <td>84852</td>\n",
       "    </tr>\n",
       "    <tr>\n",
       "      <th>32392</th>\n",
       "      <td>32389</td>\n",
       "      <td>N</td>\n",
       "    </tr>\n",
       "  </tbody>\n",
       "</table>\n",
       "<p>32393 rows × 2 columns</p>\n",
       "</div>"
      ],
      "text/plain": [
       "        test control\n",
       "0          0  272678\n",
       "1       4809  238517\n",
       "2      11201   38814\n",
       "3      11741  157320\n",
       "4      15974  165198\n",
       "...      ...     ...\n",
       "32388  32363  156541\n",
       "32389  32377  214940\n",
       "32390  32380  103915\n",
       "32391  32387   84852\n",
       "32392  32389       N\n",
       "\n",
       "[32393 rows x 2 columns]"
      ]
     },
     "execution_count": 14,
     "metadata": {},
     "output_type": "execute_result"
    }
   ],
   "source": [
    "df_match = pd.DataFrame({'test':test_id, 'control':matched_id})\n",
    "df_match"
   ]
  },
  {
   "cell_type": "code",
   "execution_count": 15,
   "id": "070aa630-1f94-4463-a55d-c442ae69df1e",
   "metadata": {},
   "outputs": [
    {
     "data": {
      "text/html": [
       "<div>\n",
       "<style scoped>\n",
       "    .dataframe tbody tr th:only-of-type {\n",
       "        vertical-align: middle;\n",
       "    }\n",
       "\n",
       "    .dataframe tbody tr th {\n",
       "        vertical-align: top;\n",
       "    }\n",
       "\n",
       "    .dataframe thead th {\n",
       "        text-align: right;\n",
       "    }\n",
       "</style>\n",
       "<table border=\"1\" class=\"dataframe\">\n",
       "  <thead>\n",
       "    <tr style=\"text-align: right;\">\n",
       "      <th></th>\n",
       "      <th>test</th>\n",
       "      <th>control</th>\n",
       "    </tr>\n",
       "  </thead>\n",
       "  <tbody>\n",
       "    <tr>\n",
       "      <th>0</th>\n",
       "      <td>0</td>\n",
       "      <td>272678</td>\n",
       "    </tr>\n",
       "    <tr>\n",
       "      <th>1</th>\n",
       "      <td>4809</td>\n",
       "      <td>238517</td>\n",
       "    </tr>\n",
       "    <tr>\n",
       "      <th>2</th>\n",
       "      <td>11201</td>\n",
       "      <td>38814</td>\n",
       "    </tr>\n",
       "    <tr>\n",
       "      <th>3</th>\n",
       "      <td>11741</td>\n",
       "      <td>157320</td>\n",
       "    </tr>\n",
       "    <tr>\n",
       "      <th>4</th>\n",
       "      <td>15974</td>\n",
       "      <td>165198</td>\n",
       "    </tr>\n",
       "    <tr>\n",
       "      <th>...</th>\n",
       "      <td>...</td>\n",
       "      <td>...</td>\n",
       "    </tr>\n",
       "    <tr>\n",
       "      <th>32386</th>\n",
       "      <td>32350</td>\n",
       "      <td>296849</td>\n",
       "    </tr>\n",
       "    <tr>\n",
       "      <th>32388</th>\n",
       "      <td>32363</td>\n",
       "      <td>156541</td>\n",
       "    </tr>\n",
       "    <tr>\n",
       "      <th>32389</th>\n",
       "      <td>32377</td>\n",
       "      <td>214940</td>\n",
       "    </tr>\n",
       "    <tr>\n",
       "      <th>32390</th>\n",
       "      <td>32380</td>\n",
       "      <td>103915</td>\n",
       "    </tr>\n",
       "    <tr>\n",
       "      <th>32391</th>\n",
       "      <td>32387</td>\n",
       "      <td>84852</td>\n",
       "    </tr>\n",
       "  </tbody>\n",
       "</table>\n",
       "<p>28691 rows × 2 columns</p>\n",
       "</div>"
      ],
      "text/plain": [
       "        test control\n",
       "0          0  272678\n",
       "1       4809  238517\n",
       "2      11201   38814\n",
       "3      11741  157320\n",
       "4      15974  165198\n",
       "...      ...     ...\n",
       "32386  32350  296849\n",
       "32388  32363  156541\n",
       "32389  32377  214940\n",
       "32390  32380  103915\n",
       "32391  32387   84852\n",
       "\n",
       "[28691 rows x 2 columns]"
      ]
     },
     "execution_count": 15,
     "metadata": {},
     "output_type": "execute_result"
    }
   ],
   "source": [
    "# get rid of unmatched data\n",
    "df_match = df_match[df_match['control'] != 'N']\n",
    "df_match"
   ]
  },
  {
   "cell_type": "markdown",
   "id": "d289a0b1-d18c-4fb3-81ff-f49687c5248e",
   "metadata": {},
   "source": [
    "### 4. Validation"
   ]
  },
  {
   "cell_type": "code",
   "execution_count": 18,
   "id": "4e70ee8f-03d0-4353-b20d-4124911c9ec4",
   "metadata": {},
   "outputs": [
    {
     "name": "stdout",
     "output_type": "stream",
     "text": [
      "   id_mask    age city gender set_126         label\n",
      "0        0  30-34  广州市      女     {5}  30-34广州市女{5}\n",
      "        id_mask    age city gender set_126         label\n",
      "240285   272678  30-34  广州市      女     {5}  30-34广州市女{5}\n"
     ]
    }
   ],
   "source": [
    "print(df_test[df_test['id_mask'] == 0])\n",
    "print(df_control[df_control['id_mask'] == 272678])"
   ]
  },
  {
   "cell_type": "code",
   "execution_count": 20,
   "id": "5d11ccbd-acf0-422e-b8d1-668ae7264154",
   "metadata": {},
   "outputs": [
    {
     "name": "stdout",
     "output_type": "stream",
     "text": [
      "       id_mask    age   city gender set_126           label\n",
      "32387    32387  30-34  阿勒泰地区      女     {4}  30-34阿勒泰地区女{4}\n",
      "       id_mask    age   city gender set_126           label\n",
      "52459    84852  30-34  阿勒泰地区      女     {4}  30-34阿勒泰地区女{4}\n"
     ]
    }
   ],
   "source": [
    "print(df_test[df_test['id_mask'] == 32387])\n",
    "print(df_control[df_control['id_mask'] == 84852])"
   ]
  },
  {
   "cell_type": "code",
   "execution_count": 21,
   "id": "33bbcbba-8188-4a96-9ab6-1c3bdc29471b",
   "metadata": {},
   "outputs": [
    {
     "name": "stdout",
     "output_type": "stream",
     "text": [
      "       id_mask    age        city gender set_126                  label\n",
      "32350    32350  45-49  黔南布依族苗族自治州      女      {}  45-49黔南布依族苗族自治州女set()\n",
      "        id_mask    age        city gender set_126                  label\n",
      "264456   296849  45-49  黔南布依族苗族自治州      女      {}  45-49黔南布依族苗族自治州女set()\n"
     ]
    }
   ],
   "source": [
    "print(df_test[df_test['id_mask'] == 32350])\n",
    "print(df_control[df_control['id_mask'] == 296849])"
   ]
  },
  {
   "cell_type": "code",
   "execution_count": 48,
   "id": "b2286631-9f3f-40d8-8398-05c1e8a78248",
   "metadata": {},
   "outputs": [],
   "source": [
    "df = pd.DataFrame(columns = df_control.columns)\n",
    "for i in df_match['control'].tolist():\n",
    "    df = df.append(df_control[df_control['id_mask'] == i])"
   ]
  },
  {
   "cell_type": "code",
   "execution_count": 49,
   "id": "253ca56e-78ee-4944-a98a-31f30526e2d7",
   "metadata": {},
   "outputs": [
    {
     "data": {
      "text/plain": [
       "<AxesSubplot:>"
      ]
     },
     "execution_count": 49,
     "metadata": {},
     "output_type": "execute_result"
    },
    {
     "data": {
      "image/png": "[encoded data removed]",
      "text/plain": [
       "<Figure size 432x288 with 1 Axes>"
      ]
     },
     "metadata": {
      "needs_background": "light"
     },
     "output_type": "display_data"
    }
   ],
   "source": [
    "df['age'].hist()"
   ]
  },
  {
   "cell_type": "code",
   "execution_count": 50,
   "id": "e742bb3e-c1fd-44fa-a462-6811954fd30f",
   "metadata": {},
   "outputs": [],
   "source": [
    "df2 = pd.DataFrame(columns = df_test.columns)\n",
    "for i in df_match['test'].tolist():\n",
    "    df2 = df2.append(df_test[df_test['id_mask'] == i])"
   ]
  },
  {
   "cell_type": "code",
   "execution_count": 52,
   "id": "34a70288-67e6-4698-b1a8-98c0bead1743",
   "metadata": {},
   "outputs": [
    {
     "data": {
      "text/plain": [
       "<AxesSubplot:>"
      ]
     },
     "execution_count": 52,
     "metadata": {},
     "output_type": "execute_result"
    },
    {
     "data": {
      "image/png": "[encoded data removed]",
      "text/plain": [
       "<Figure size 432x288 with 1 Axes>"
      ]
     },
     "metadata": {
      "needs_background": "light"
     },
     "output_type": "display_data"
    }
   ],
   "source": [
    "df2['age'].hist()"
   ]
  },
  {
   "cell_type": "code",
   "execution_count": null,
   "id": "e007df64-f551-4bf6-8e25-e6fdcfa7986f",
   "metadata": {},
   "outputs": [],
   "source": []
  },
  {
   "cell_type": "code",
   "execution_count": null,
   "id": "2960fc90-deaa-427e-afe1-09f91f42f432",
   "metadata": {},
   "outputs": [],
   "source": []
  },
  {
   "cell_type": "code",
   "execution_count": null,
   "id": "f09514f8-3d1a-4643-b4af-8e08aea02f80",
   "metadata": {},
   "outputs": [],
   "source": []
  }
 ],
 "metadata": {
  "kernelspec": {
   "display_name": "Python 3 (ipykernel)",
   "language": "python",
   "name": "python3"
  },
  "language_info": {
   "codemirror_mode": {
    "name": "ipython",
    "version": 3
   },
   "file_extension": ".py",
   "mimetype": "text/x-python",
   "name": "python",
   "nbconvert_exporter": "python",
   "pygments_lexer": "ipython3",
   "version": "3.9.7"
  }
 },
 "nbformat": 4,
 "nbformat_minor": 5
}
